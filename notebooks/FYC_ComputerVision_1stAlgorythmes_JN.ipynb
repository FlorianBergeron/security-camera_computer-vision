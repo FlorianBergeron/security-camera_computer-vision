{
 "cells": [
  {
   "cell_type": "markdown",
   "metadata": {
    "id": "8pBtkcpYkQow"
   },
   "source": [
    "# FIRST COMPUTER VISION'S ALGORYTHMES"
   ]
  },
  {
   "cell_type": "markdown",
   "metadata": {
    "id": "KJWBMT41zUPQ"
   },
   "source": [
    "## 1 - Import Libraries"
   ]
  },
  {
   "cell_type": "code",
   "execution_count": 1,
   "metadata": {
    "colab": {
     "base_uri": "https://localhost:8080/"
    },
    "id": "6_-eCKkKkO0O",
    "outputId": "7f20b0bf-64ec-4a9e-ade1-e8b8229e62ef"
   },
   "outputs": [
    {
     "name": "stdout",
     "output_type": "stream",
     "text": [
      "TENSORFLOW VERSION\n",
      " 2.0.0\n",
      "KERAS VERSION\n",
      " 2.2.4-tf\n",
      "NUMPY VERSION\n",
      " 1.17.2\n",
      "PANDAS VERSION\n",
      " 0.25.3\n"
     ]
    }
   ],
   "source": [
    "import os\n",
    "import kaggle\n",
    "import random\n",
    "import zipfile\n",
    "\n",
    "# Import scientific's libraries\n",
    "import numpy as np\n",
    "import pandas as pd\n",
    "import matplotlib.pyplot as plt\n",
    "\n",
    "# Import Machine Learning's libraries\n",
    "import sklearn as sk\n",
    "from sklearn.model_selection import train_test_split\n",
    "\n",
    "import tensorflow as tf\n",
    "import tensorflow.keras as keras\n",
    "from tensorflow.keras.preprocessing.image import load_img\n",
    "from tensorflow.keras.preprocessing.image import ImageDataGenerator\n",
    "from tensorflow.keras.models import Sequential\n",
    "from tensorflow.keras.layers import Dense\n",
    "from tensorflow.keras.layers import Conv2D\n",
    "from tensorflow.keras.layers import Flatten\n",
    "from tensorflow.keras.layers import Dropout\n",
    "from tensorflow.keras.layers import Activation\n",
    "from tensorflow.keras.layers import MaxPooling2D\n",
    "from tensorflow.keras.layers import BatchNormalization\n",
    "from tensorflow.keras.callbacks import EarlyStopping\n",
    "from tensorflow.keras.callbacks import ReduceLROnPlateau\n",
    "\n",
    "# Print ML's libraries version from Google Colab\n",
    "print(\"TENSORFLOW VERSION\\n\", tf.__version__)\n",
    "print(\"KERAS VERSION\\n\", keras.__version__)\n",
    "print(\"NUMPY VERSION\\n\", np.__version__)\n",
    "print(\"PANDAS VERSION\\n\", pd.__version__)"
   ]
  },
  {
   "cell_type": "markdown",
   "metadata": {
    "id": "_2E0qD1uzx4n"
   },
   "source": [
    "## 2 - Import Datasets"
   ]
  },
  {
   "cell_type": "code",
   "execution_count": 2,
   "metadata": {
    "id": "u4Nnc4yXd61F"
   },
   "outputs": [],
   "source": [
    "# Set a path to directories\n",
    "ABSOLUTE_PATH = os.getcwd() + \"\\\\\"\n",
    "RAW_DATA = ABSOLUTE_PATH + \"datasets\\\\\"\n",
    "DATA_DIR = RAW_DATA + \"dogs_vs_cats\\\\\"\n",
    "MODELS_DIR = ABSOLUTE_PATH + \"save_models\\\\\"\n",
    "DATA_TRAIN = DATA_DIR + \"train\\\\\"\n",
    "DATA_TEST = DATA_DIR + \"test\\\\\""
   ]
  },
  {
   "cell_type": "code",
   "execution_count": 6,
   "metadata": {},
   "outputs": [
    {
     "name": "stdout",
     "output_type": "stream",
     "text": [
      "\n",
      "(+) Creating data architecture...\n",
      " > DONE\n"
     ]
    }
   ],
   "source": [
    "print(\"\\n(+) Creating data architecture...\")\n",
    "try:\n",
    "    os.mkdir(RAW_DATA)\n",
    "    os.mkdir(DATA_DIR)\n",
    "    os.mkdir(MODELS_DIR)\n",
    "    print(\" > DONE\")\n",
    "except:\n",
    "    pass"
   ]
  },
  {
   "cell_type": "code",
   "execution_count": 7,
   "metadata": {},
   "outputs": [
    {
     "name": "stdout",
     "output_type": "stream",
     "text": [
      "\n",
      "(+) DOWNLOADING KAGGLE'S DATASET...\n",
      " > DONE\n"
     ]
    }
   ],
   "source": [
    "# API Command available on kaggle's dataset (here is an example below)\n",
    "print(\"\\n(+) DOWNLOADING KAGGLE'S DATASET...\")\n",
    "os.system(\"kaggle competitions download -c dogs-vs-cats\")\n",
    "\n",
    "print(\" > DONE\")"
   ]
  },
  {
   "cell_type": "code",
   "execution_count": 8,
   "metadata": {
    "colab": {
     "base_uri": "https://localhost:8080/"
    },
    "id": "b-rRvRFxfMgQ",
    "outputId": "46e5754a-7f05-4ba6-ef7e-c3fd0319d76a"
   },
   "outputs": [
    {
     "name": "stdout",
     "output_type": "stream",
     "text": [
      "\n",
      "(+) UNZIP \"dogs_vs_cats.zip\" > PROCESSING...\n",
      " > DONE\n"
     ]
    }
   ],
   "source": [
    "# Extract files from archives train.zip\n",
    "print(\"\\n(+) UNZIP \\\"dogs_vs_cats.zip\\\" > PROCESSING...\")\n",
    "with zipfile.ZipFile(ABSOLUTE_PATH + \"dogs-vs-cats.zip\", 'r') as zip_ref:\n",
    "    zip_ref.extractall(DATA_DIR)\n",
    "\n",
    "print(\" > DONE\")"
   ]
  },
  {
   "cell_type": "code",
   "execution_count": 9,
   "metadata": {
    "id": "eW0vJ1Delawr"
   },
   "outputs": [
    {
     "name": "stdout",
     "output_type": "stream",
     "text": [
      "\n",
      "(+) UNZIP \"train.zip\" > PROCESSING...\n",
      " > DONE\n"
     ]
    }
   ],
   "source": [
    "# Extract files from archives test.zip\n",
    "print(\"\\n(+) UNZIP \\\"train.zip\\\" > PROCESSING...\")\n",
    "with zipfile.ZipFile(DATA_DIR + \"train.zip\", 'r') as zip_ref:\n",
    "    zip_ref.extractall(DATA_DIR)\n",
    "\n",
    "print(\" > DONE\")"
   ]
  },
  {
   "cell_type": "code",
   "execution_count": 10,
   "metadata": {},
   "outputs": [
    {
     "name": "stdout",
     "output_type": "stream",
     "text": [
      "\n",
      "(+) UNZIP \"test1.zip\" > PROCESSING...\n",
      " > DONE\n"
     ]
    }
   ],
   "source": [
    "# Extract files from archives test.zip\n",
    "print(\"\\n(+) UNZIP \\\"test1.zip\\\" > PROCESSING...\")\n",
    "with zipfile.ZipFile(DATA_DIR + \"test1.zip\", 'r') as zip_ref:\n",
    "    zip_ref.extractall(DATA_DIR)\n",
    "\n",
    "print(\" > DONE\")"
   ]
  },
  {
   "cell_type": "code",
   "execution_count": 11,
   "metadata": {},
   "outputs": [],
   "source": [
    "# Rename testset folder\n",
    "try:\n",
    "    os.rename(DATA_DIR + \"test1\", DATA_DIR + \"test\")\n",
    "except:\n",
    "    pass"
   ]
  },
  {
   "cell_type": "code",
   "execution_count": 12,
   "metadata": {},
   "outputs": [
    {
     "name": "stdout",
     "output_type": "stream",
     "text": [
      "\n",
      "(-) REMOVE \"dogs-vs-cats.zip\" !\n",
      "\n",
      "(-) REMOVE \"train.zip\" !\n",
      "\n",
      "(-) REMOVE \"test1.zip\" !\n",
      "\n",
      "(-) REMOVE \"sampleSubmission.csv\" !\n"
     ]
    }
   ],
   "source": [
    "# Remove useless files\n",
    "try:\n",
    "    os.remove(ABSOLUTE_PATH + \"dogs-vs-cats.zip\")\n",
    "    os.remove(DATA_DIR + \"train.zip\")\n",
    "    os.remove(DATA_DIR + \"test1.zip\")\n",
    "    os.remove(DATA_DIR + \"sampleSubmission.csv\")\n",
    "\n",
    "    print(\"\\n(-) REMOVE \\\"dogs-vs-cats.zip\\\" !\")\n",
    "    print(\"\\n(-) REMOVE \\\"train.zip\\\" !\")\n",
    "    print(\"\\n(-) REMOVE \\\"test1.zip\\\" !\")\n",
    "    print(\"\\n(-) REMOVE \\\"sampleSubmission.csv\\\" !\")\n",
    "except:\n",
    "    pass"
   ]
  },
  {
   "cell_type": "code",
   "execution_count": 3,
   "metadata": {
    "colab": {
     "base_uri": "https://localhost:8080/"
    },
    "id": "feL3pIxqkDcv",
    "outputId": "5a7704d7-f9e0-47ac-824f-072c1de26fc9"
   },
   "outputs": [
    {
     "name": "stdout",
     "output_type": "stream",
     "text": [
      "Number of images in Train set:  25000\n",
      "Number of images in Test set:   12500\n"
     ]
    }
   ],
   "source": [
    "print(\"Number of images in Train set: \", len(os.listdir(DATA_TRAIN)))\n",
    "print(\"Number of images in Test set:  \", len(os.listdir(DATA_TEST)))"
   ]
  },
  {
   "cell_type": "markdown",
   "metadata": {
    "id": "KmtNHhqyqEzy"
   },
   "source": [
    "## 3 - Create a labelized dataframe from raw train set"
   ]
  },
  {
   "cell_type": "markdown",
   "metadata": {
    "id": "Dcm1gFHDD4Y1"
   },
   "source": [
    "We convert 1 to dog and 0 to cat, because we use image generator. We need to convert category colum in string, becauce, the image generator will convert it with one-hot encoding. This is better for \"classification\". "
   ]
  },
  {
   "cell_type": "code",
   "execution_count": 4,
   "metadata": {
    "colab": {
     "base_uri": "https://localhost:8080/"
    },
    "id": "rhHBQcb7lLDP",
    "outputId": "23100d79-935b-4475-9008-12e0583d1cf0"
   },
   "outputs": [
    {
     "name": "stdout",
     "output_type": "stream",
     "text": [
      " Number of cats: 12500 \n",
      " Number of dogs: 12500\n"
     ]
    }
   ],
   "source": [
    "filenames = os.listdir(DATA_TRAIN)\n",
    "categories = []\n",
    "cat = 0\n",
    "dog = 0\n",
    "for filename in filenames:\n",
    "    category = filename.split(\".\")[0]\n",
    "    if category == \"cat\":\n",
    "        categories.append(\"cat\")\n",
    "        cat+=1\n",
    "    else:\n",
    "        categories.append(\"dog\")\n",
    "        dog+=1\n",
    "\n",
    "df_train = pd.DataFrame({\n",
    "    'filename': filenames,\n",
    "    'category': categories\n",
    "})\n",
    "\n",
    "print(\" Number of cats:\", cat, \"\\n\", \"Number of dogs:\", dog)"
   ]
  },
  {
   "cell_type": "code",
   "execution_count": 5,
   "metadata": {
    "colab": {
     "base_uri": "https://localhost:8080/",
     "height": 419
    },
    "id": "guXMu4cAoJH4",
    "outputId": "21a8e2b9-54c5-4cdc-a38c-20ed257d8460"
   },
   "outputs": [
    {
     "data": {
      "text/html": [
       "<div>\n",
       "<style scoped>\n",
       "    .dataframe tbody tr th:only-of-type {\n",
       "        vertical-align: middle;\n",
       "    }\n",
       "\n",
       "    .dataframe tbody tr th {\n",
       "        vertical-align: top;\n",
       "    }\n",
       "\n",
       "    .dataframe thead th {\n",
       "        text-align: right;\n",
       "    }\n",
       "</style>\n",
       "<table border=\"1\" class=\"dataframe\">\n",
       "  <thead>\n",
       "    <tr style=\"text-align: right;\">\n",
       "      <th></th>\n",
       "      <th>filename</th>\n",
       "      <th>category</th>\n",
       "    </tr>\n",
       "  </thead>\n",
       "  <tbody>\n",
       "    <tr>\n",
       "      <th>0</th>\n",
       "      <td>cat.0.jpg</td>\n",
       "      <td>cat</td>\n",
       "    </tr>\n",
       "    <tr>\n",
       "      <th>1</th>\n",
       "      <td>cat.1.jpg</td>\n",
       "      <td>cat</td>\n",
       "    </tr>\n",
       "    <tr>\n",
       "      <th>2</th>\n",
       "      <td>cat.10.jpg</td>\n",
       "      <td>cat</td>\n",
       "    </tr>\n",
       "    <tr>\n",
       "      <th>3</th>\n",
       "      <td>cat.100.jpg</td>\n",
       "      <td>cat</td>\n",
       "    </tr>\n",
       "    <tr>\n",
       "      <th>4</th>\n",
       "      <td>cat.1000.jpg</td>\n",
       "      <td>cat</td>\n",
       "    </tr>\n",
       "    <tr>\n",
       "      <th>...</th>\n",
       "      <td>...</td>\n",
       "      <td>...</td>\n",
       "    </tr>\n",
       "    <tr>\n",
       "      <th>24995</th>\n",
       "      <td>dog.9995.jpg</td>\n",
       "      <td>dog</td>\n",
       "    </tr>\n",
       "    <tr>\n",
       "      <th>24996</th>\n",
       "      <td>dog.9996.jpg</td>\n",
       "      <td>dog</td>\n",
       "    </tr>\n",
       "    <tr>\n",
       "      <th>24997</th>\n",
       "      <td>dog.9997.jpg</td>\n",
       "      <td>dog</td>\n",
       "    </tr>\n",
       "    <tr>\n",
       "      <th>24998</th>\n",
       "      <td>dog.9998.jpg</td>\n",
       "      <td>dog</td>\n",
       "    </tr>\n",
       "    <tr>\n",
       "      <th>24999</th>\n",
       "      <td>dog.9999.jpg</td>\n",
       "      <td>dog</td>\n",
       "    </tr>\n",
       "  </tbody>\n",
       "</table>\n",
       "<p>25000 rows × 2 columns</p>\n",
       "</div>"
      ],
      "text/plain": [
       "           filename category\n",
       "0         cat.0.jpg      cat\n",
       "1         cat.1.jpg      cat\n",
       "2        cat.10.jpg      cat\n",
       "3       cat.100.jpg      cat\n",
       "4      cat.1000.jpg      cat\n",
       "...             ...      ...\n",
       "24995  dog.9995.jpg      dog\n",
       "24996  dog.9996.jpg      dog\n",
       "24997  dog.9997.jpg      dog\n",
       "24998  dog.9998.jpg      dog\n",
       "24999  dog.9999.jpg      dog\n",
       "\n",
       "[25000 rows x 2 columns]"
      ]
     },
     "execution_count": 5,
     "metadata": {},
     "output_type": "execute_result"
    }
   ],
   "source": [
    "# Here is a example of the head and the tail of our dataframe from training set\n",
    "df_train"
   ]
  },
  {
   "cell_type": "code",
   "execution_count": 6,
   "metadata": {
    "colab": {
     "base_uri": "https://localhost:8080/"
    },
    "id": "GjF4Sac-DyTa",
    "outputId": "e27152d8-afd5-4e10-ce96-c0710acbb32f"
   },
   "outputs": [
    {
     "name": "stdout",
     "output_type": "stream",
     "text": [
      "df_train_shape: 20000\n",
      "df_val_shape: 5000\n"
     ]
    }
   ],
   "source": [
    "# We will now split our training set in training set (80%) & validation set (20%)\n",
    "df_train, df_val = train_test_split(df_train, test_size=0.20, random_state=42)\n",
    "df_train = df_train.reset_index(drop=True)\n",
    "df_val = df_val.reset_index(drop=True)\n",
    "\n",
    "total_train = df_train.shape[0]\n",
    "total_val = df_val.shape[0]\n",
    "\n",
    "print(\"df_train_shape:\", total_train)\n",
    "print(\"df_val_shape:\", total_val)"
   ]
  },
  {
   "cell_type": "code",
   "execution_count": 7,
   "metadata": {
    "colab": {
     "base_uri": "https://localhost:8080/",
     "height": 291
    },
    "id": "dZ8ryrJOoKdK",
    "outputId": "20b0d263-31b9-45e8-8626-e70415699d3f"
   },
   "outputs": [
    {
     "data": {
      "text/plain": [
       "<matplotlib.axes._subplots.AxesSubplot at 0x2b5c38de948>"
      ]
     },
     "execution_count": 7,
     "metadata": {},
     "output_type": "execute_result"
    },
    {
     "data": {
      "image/png": "[encoded data removed]",
      "text/plain": [
       "<Figure size 432x288 with 1 Axes>"
      ]
     },
     "metadata": {
      "needs_background": "light"
     },
     "output_type": "display_data"
    }
   ],
   "source": [
    "df_train[\"category\"].value_counts().plot.bar()"
   ]
  },
  {
   "cell_type": "code",
   "execution_count": 8,
   "metadata": {
    "colab": {
     "base_uri": "https://localhost:8080/"
    },
    "id": "QSFWxNPaJCvE",
    "outputId": "74e17604-e182-4f00-cd34-a58a03787fbb"
   },
   "outputs": [
    {
     "name": "stdout",
     "output_type": "stream",
     "text": [
      "count_cat_train: 9985\n",
      "count_dog_train: 10015\n"
     ]
    }
   ],
   "source": [
    "count_cat_train = 0\n",
    "count_dog_train = 0\n",
    "\n",
    "for category in df_train[\"category\"]:\n",
    "    if category == \"cat\":\n",
    "        count_cat_train+=1\n",
    "    else:\n",
    "        count_dog_train+=1\n",
    "\n",
    "print(\"count_cat_train:\", count_cat_train)\n",
    "print(\"count_dog_train:\", count_dog_train)"
   ]
  },
  {
   "cell_type": "code",
   "execution_count": 9,
   "metadata": {
    "colab": {
     "base_uri": "https://localhost:8080/",
     "height": 291
    },
    "id": "xuD4OVOgKEOf",
    "outputId": "008469fe-b0c5-4323-974e-df8ab75aeca8"
   },
   "outputs": [
    {
     "data": {
      "text/plain": [
       "<matplotlib.axes._subplots.AxesSubplot at 0x2b5c3df0908>"
      ]
     },
     "execution_count": 9,
     "metadata": {},
     "output_type": "execute_result"
    },
    {
     "data": {
      "image/png": "[encoded data removed]",
      "text/plain": [
       "<Figure size 432x288 with 1 Axes>"
      ]
     },
     "metadata": {
      "needs_background": "light"
     },
     "output_type": "display_data"
    }
   ],
   "source": [
    "df_val[\"category\"].value_counts().plot.bar()"
   ]
  },
  {
   "cell_type": "code",
   "execution_count": 10,
   "metadata": {
    "colab": {
     "base_uri": "https://localhost:8080/"
    },
    "id": "obG9ShAHJpZ5",
    "outputId": "26f05070-dcbd-4534-cd30-b6d5498a65ed"
   },
   "outputs": [
    {
     "name": "stdout",
     "output_type": "stream",
     "text": [
      "count_cat_val: 2515\n",
      "count_dog_val: 2485\n"
     ]
    }
   ],
   "source": [
    "count_cat_val = 0\n",
    "count_dog_val = 0\n",
    "\n",
    "for category in df_val[\"category\"]:\n",
    "    if category == \"cat\":\n",
    "        count_cat_val+=1\n",
    "    else:\n",
    "        count_dog_val+=1\n",
    "\n",
    "print(\"count_cat_val:\", count_cat_val)\n",
    "print(\"count_dog_val:\", count_dog_val)"
   ]
  },
  {
   "cell_type": "code",
   "execution_count": 11,
   "metadata": {
    "colab": {
     "base_uri": "https://localhost:8080/",
     "height": 286
    },
    "id": "XRNLiNGloP2j",
    "outputId": "106e1ea4-6415-41fb-954d-cbb1b979a00f"
   },
   "outputs": [
    {
     "data": {
      "text/plain": [
       "<matplotlib.image.AxesImage at 0x2b5c3f05ec8>"
      ]
     },
     "execution_count": 11,
     "metadata": {},
     "output_type": "execute_result"
    },
    {
     "data": {
      "image/png": "[encoded data removed]",
      "text/plain": [
       "<Figure size 432x288 with 1 Axes>"
      ]
     },
     "metadata": {
      "needs_background": "light"
     },
     "output_type": "display_data"
    }
   ],
   "source": [
    "example = random.choice(filenames)\n",
    "image = load_img(DATA_TRAIN + example)\n",
    "plt.imshow(image)"
   ]
  },
  {
   "cell_type": "markdown",
   "metadata": {
    "id": "JkQ9aKFZqUkn"
   },
   "source": [
    "## 4 - Build first Convolution Neural Network (CNN) => Classification"
   ]
  },
  {
   "cell_type": "code",
   "execution_count": 12,
   "metadata": {
    "id": "lgyPh8KFrbhP"
   },
   "outputs": [],
   "source": [
    "# Set Hyperparameters\n",
    "IMAGE_CHANNELS = 3\n",
    "IMAGE_WIDTH = 128\n",
    "IMAGE_HEIGHT = 128\n",
    "IMAGE_SIZE = (IMAGE_WIDTH, IMAGE_HEIGHT)\n",
    "ACTIVATION_CONV = \"relu\"\n",
    "ACTIVATION_OUTPUT = \"softmax\"\n",
    "OPTIMIZER = \"rmsprop\"\n",
    "LOSS = \"categorical_crossentropy\"\n",
    "BATCH_SIZE = 15"
   ]
  },
  {
   "cell_type": "code",
   "execution_count": 13,
   "metadata": {
    "colab": {
     "base_uri": "https://localhost:8080/"
    },
    "id": "rLRg3NROpX4I",
    "outputId": "1ed86d18-ba0b-4415-9fd7-2c03744e6fd0"
   },
   "outputs": [
    {
     "name": "stdout",
     "output_type": "stream",
     "text": [
      "Model: \"sequential\"\n",
      "_________________________________________________________________\n",
      "Layer (type)                 Output Shape              Param #   \n",
      "=================================================================\n",
      "conv2d (Conv2D)              (None, 126, 126, 32)      896       \n",
      "_________________________________________________________________\n",
      "batch_normalization (BatchNo (None, 126, 126, 32)      128       \n",
      "_________________________________________________________________\n",
      "max_pooling2d (MaxPooling2D) (None, 63, 63, 32)        0         \n",
      "_________________________________________________________________\n",
      "dropout (Dropout)            (None, 63, 63, 32)        0         \n",
      "_________________________________________________________________\n",
      "conv2d_1 (Conv2D)            (None, 61, 61, 64)        18496     \n",
      "_________________________________________________________________\n",
      "batch_normalization_1 (Batch (None, 61, 61, 64)        256       \n",
      "_________________________________________________________________\n",
      "max_pooling2d_1 (MaxPooling2 (None, 30, 30, 64)        0         \n",
      "_________________________________________________________________\n",
      "dropout_1 (Dropout)          (None, 30, 30, 64)        0         \n",
      "_________________________________________________________________\n",
      "conv2d_2 (Conv2D)            (None, 28, 28, 128)       73856     \n",
      "_________________________________________________________________\n",
      "batch_normalization_2 (Batch (None, 28, 28, 128)       512       \n",
      "_________________________________________________________________\n",
      "max_pooling2d_2 (MaxPooling2 (None, 14, 14, 128)       0         \n",
      "_________________________________________________________________\n",
      "dropout_2 (Dropout)          (None, 14, 14, 128)       0         \n",
      "_________________________________________________________________\n",
      "flatten (Flatten)            (None, 25088)             0         \n",
      "_________________________________________________________________\n",
      "dense (Dense)                (None, 512)               12845568  \n",
      "_________________________________________________________________\n",
      "batch_normalization_3 (Batch (None, 512)               2048      \n",
      "_________________________________________________________________\n",
      "dropout_3 (Dropout)          (None, 512)               0         \n",
      "_________________________________________________________________\n",
      "dense_1 (Dense)              (None, 2)                 1026      \n",
      "=================================================================\n",
      "Total params: 12,942,786\n",
      "Trainable params: 12,941,314\n",
      "Non-trainable params: 1,472\n",
      "_________________________________________________________________\n"
     ]
    }
   ],
   "source": [
    "# Build model's architecture\n",
    "model = Sequential()\n",
    "\n",
    "model.add(Conv2D(32, (3, 3), activation=ACTIVATION_CONV, input_shape=(IMAGE_WIDTH, \n",
    "                                                                      IMAGE_HEIGHT, \n",
    "                                                                      IMAGE_CHANNELS)))\n",
    "model.add(BatchNormalization())\n",
    "model.add(MaxPooling2D(pool_size=(2, 2)))\n",
    "model.add(Dropout(0.25))\n",
    "\n",
    "model.add(Conv2D(64, (3, 3), activation=ACTIVATION_CONV))\n",
    "model.add(BatchNormalization())\n",
    "model.add(MaxPooling2D(pool_size=(2, 2)))\n",
    "model.add(Dropout(0.25))\n",
    "\n",
    "model.add(Conv2D(128, (3, 3), activation=ACTIVATION_CONV))\n",
    "model.add(BatchNormalization())\n",
    "model.add(MaxPooling2D(pool_size=(2, 2)))\n",
    "model.add(Dropout(0.25))\n",
    "\n",
    "model.add(Flatten())\n",
    "model.add(Dense(512, activation=ACTIVATION_CONV))\n",
    "model.add(BatchNormalization())\n",
    "model.add(Dropout(0.5))\n",
    "model.add(Dense(2, activation=ACTIVATION_OUTPUT)) # 2 because we have 2 classes (cat & dog)\n",
    "\n",
    "model.compile(loss=LOSS,\n",
    "              optimizer=OPTIMIZER,\n",
    "              metrics=['accuracy'])\n",
    "\n",
    "model.summary()"
   ]
  },
  {
   "cell_type": "code",
   "execution_count": 14,
   "metadata": {
    "id": "ig8ghVnUrY4B"
   },
   "outputs": [],
   "source": [
    "# Set parameters for Callbacks\n",
    "# If accuracy doesn't increase for 10 epochs, training is stopped => Prevent overfitting!\n",
    "earlystop = EarlyStopping(patience=10)\n",
    "\n",
    "# If accuracy doesn't increase for 2 epochs => Learning rate is reduced at a minimum of 0.00001\n",
    "learning_rate_reduction = ReduceLROnPlateau(monitor='val_accuracy', \n",
    "                                            patience=2, \n",
    "                                            verbose=1, \n",
    "                                            factor=0.5, \n",
    "                                            min_lr=0.00001)\n",
    "\n",
    "CALLBACKS = [earlystop, learning_rate_reduction]"
   ]
  },
  {
   "cell_type": "markdown",
   "metadata": {
    "id": "Vw1hWkwpKxaU"
   },
   "source": [
    "## 5 - Data Image Generator"
   ]
  },
  {
   "cell_type": "code",
   "execution_count": 15,
   "metadata": {
    "id": "C23LEgveSBT4"
   },
   "outputs": [],
   "source": [
    "# Hyperparameters for DataImageGenerators\n",
    "CLASS_MODE = \"categorical\""
   ]
  },
  {
   "cell_type": "code",
   "execution_count": 16,
   "metadata": {
    "colab": {
     "base_uri": "https://localhost:8080/"
    },
    "id": "B1ESqSWVK5ck",
    "outputId": "ae819375-43a2-44bb-d5bb-63404008ebcb"
   },
   "outputs": [
    {
     "name": "stdout",
     "output_type": "stream",
     "text": [
      "Found 20000 validated image filenames belonging to 2 classes.\n"
     ]
    }
   ],
   "source": [
    "# Create datagenerator for training set with parameters for data augmentation\n",
    "train_datagen = ImageDataGenerator(rotation_range=15,\n",
    "                                   rescale=1./255,\n",
    "                                   shear_range=0.1,\n",
    "                                   zoom_range=0.2,\n",
    "                                   horizontal_flip=True,\n",
    "                                   width_shift_range=0.1,\n",
    "                                   height_shift_range=0.1)\n",
    "\n",
    "gen_train = train_datagen.flow_from_dataframe(df_train,\n",
    "                                              DATA_TRAIN,\n",
    "                                              x_col='filename',\n",
    "                                              y_col='category',\n",
    "                                              target_size=IMAGE_SIZE,\n",
    "                                              class_mode=CLASS_MODE,\n",
    "                                              batch_size=BATCH_SIZE)"
   ]
  },
  {
   "cell_type": "code",
   "execution_count": 17,
   "metadata": {
    "colab": {
     "base_uri": "https://localhost:8080/"
    },
    "id": "WvPM7knaMZNl",
    "outputId": "a27827a4-25c4-4fba-b2a3-53a29c13a80e"
   },
   "outputs": [
    {
     "name": "stdout",
     "output_type": "stream",
     "text": [
      "Found 5000 validated image filenames belonging to 2 classes.\n"
     ]
    }
   ],
   "source": [
    "# Create datagenerator for validation set with parameters for data augmentation\n",
    "validation_datagen = ImageDataGenerator(rescale=1./255)\n",
    "\n",
    "gen_val = validation_datagen.flow_from_dataframe(df_val,\n",
    "                                                 DATA_TRAIN,\n",
    "                                                 x_col='filename',\n",
    "                                                 y_col='category',\n",
    "                                                 target_size=IMAGE_SIZE,\n",
    "                                                 class_mode=CLASS_MODE,\n",
    "                                                 batch_size=BATCH_SIZE)"
   ]
  },
  {
   "cell_type": "markdown",
   "metadata": {
    "id": "sSmngc7tRoqt"
   },
   "source": [
    "## 6 - Train CNN"
   ]
  },
  {
   "cell_type": "code",
   "execution_count": 18,
   "metadata": {
    "colab": {
     "base_uri": "https://localhost:8080/",
     "height": 408
    },
    "id": "oFhYHEEDNNZv",
    "outputId": "6dc79581-7106-4cbc-d630-2b3c25656d5e"
   },
   "outputs": [
    {
     "name": "stdout",
     "output_type": "stream",
     "text": [
      "Epoch 1/50\n",
      "1333/1333 [==============================] - 213s 160ms/step - loss: 0.7476 - accuracy: 0.6315 - val_loss: 0.5869 - val_accuracy: 0.7161\n",
      "Epoch 2/50\n",
      "1333/1333 [==============================] - 242s 182ms/step - loss: 0.5569 - accuracy: 0.7207 - val_loss: 0.5347 - val_accuracy: 0.7381\n",
      "Epoch 3/50\n",
      "1333/1333 [==============================] - 245s 183ms/step - loss: 0.5123 - accuracy: 0.7528 - val_loss: 0.8210 - val_accuracy: 0.6597\n",
      "Epoch 4/50\n",
      "1333/1333 [==============================] - 261s 196ms/step - loss: 0.4771 - accuracy: 0.7735 - val_loss: 0.5446 - val_accuracy: 0.7419\n",
      "Epoch 5/50\n",
      "1333/1333 [==============================] - 240s 180ms/step - loss: 0.4480 - accuracy: 0.7936 - val_loss: 0.3838 - val_accuracy: 0.8376\n",
      "Epoch 6/50\n",
      "1333/1333 [==============================] - 251s 189ms/step - loss: 0.4235 - accuracy: 0.8106 - val_loss: 0.3540 - val_accuracy: 0.8458\n",
      "Epoch 7/50\n",
      "1333/1333 [==============================] - 254s 190ms/step - loss: 0.4176 - accuracy: 0.8140 - val_loss: 0.3874 - val_accuracy: 0.8252\n",
      "Epoch 8/50\n",
      "1333/1333 [==============================] - 255s 191ms/step - loss: 0.3982 - accuracy: 0.8236 - val_loss: 0.3217 - val_accuracy: 0.8609\n",
      "Epoch 9/50\n",
      "1333/1333 [==============================] - 243s 182ms/step - loss: 0.3852 - accuracy: 0.8295 - val_loss: 0.4517 - val_accuracy: 0.7754\n",
      "Epoch 10/50\n",
      "1332/1333 [============================>.] - ETA: 0s - loss: 0.3767 - accuracy: 0.8342\n",
      "Epoch 00010: ReduceLROnPlateau reducing learning rate to 0.0005000000237487257.\n",
      "1333/1333 [==============================] - 249s 186ms/step - loss: 0.3767 - accuracy: 0.8341 - val_loss: 0.3647 - val_accuracy: 0.8326\n",
      "Epoch 11/50\n",
      "1333/1333 [==============================] - 251s 188ms/step - loss: 0.3373 - accuracy: 0.8574 - val_loss: 0.3570 - val_accuracy: 0.8390\n",
      "Epoch 12/50\n",
      "1332/1333 [============================>.] - ETA: 0s - loss: 0.3274 - accuracy: 0.8595\n",
      "Epoch 00012: ReduceLROnPlateau reducing learning rate to 0.0002500000118743628.\n",
      "1333/1333 [==============================] - 241s 181ms/step - loss: 0.3273 - accuracy: 0.8595 - val_loss: 0.3793 - val_accuracy: 0.8316\n",
      "Epoch 13/50\n",
      "1333/1333 [==============================] - 242s 181ms/step - loss: 0.3057 - accuracy: 0.8700 - val_loss: 0.2460 - val_accuracy: 0.8977\n",
      "Epoch 14/50\n",
      "1333/1333 [==============================] - 236s 177ms/step - loss: 0.3020 - accuracy: 0.8698 - val_loss: 0.2451 - val_accuracy: 0.8983\n",
      "Epoch 15/50\n",
      "1333/1333 [==============================] - 252s 189ms/step - loss: 0.3053 - accuracy: 0.8701 - val_loss: 0.2335 - val_accuracy: 0.9043\n",
      "Epoch 16/50\n",
      "1333/1333 [==============================] - 264s 198ms/step - loss: 0.3031 - accuracy: 0.8715 - val_loss: 0.2546 - val_accuracy: 0.8983\n",
      "Epoch 17/50\n",
      "1333/1333 [==============================] - 255s 191ms/step - loss: 0.2986 - accuracy: 0.8739 - val_loss: 0.2400 - val_accuracy: 0.9059\n",
      "Epoch 18/50\n",
      "1333/1333 [==============================] - 235s 176ms/step - loss: 0.2919 - accuracy: 0.8753 - val_loss: 0.2287 - val_accuracy: 0.9077\n",
      "Epoch 19/50\n",
      "1333/1333 [==============================] - 236s 177ms/step - loss: 0.2918 - accuracy: 0.8774 - val_loss: 0.2306 - val_accuracy: 0.9045\n",
      "Epoch 20/50\n",
      "1332/1333 [============================>.] - ETA: 0s - loss: 0.2832 - accuracy: 0.8767\n",
      "Epoch 00020: ReduceLROnPlateau reducing learning rate to 0.0001250000059371814.\n",
      "1333/1333 [==============================] - 235s 177ms/step - loss: 0.2832 - accuracy: 0.8767 - val_loss: 0.3694 - val_accuracy: 0.8466\n",
      "Epoch 21/50\n",
      "1333/1333 [==============================] - 236s 177ms/step - loss: 0.2765 - accuracy: 0.8818 - val_loss: 0.2184 - val_accuracy: 0.9159\n",
      "Epoch 22/50\n",
      "1333/1333 [==============================] - 231s 174ms/step - loss: 0.2738 - accuracy: 0.8851 - val_loss: 0.2141 - val_accuracy: 0.9173\n",
      "Epoch 23/50\n",
      "1333/1333 [==============================] - 230s 173ms/step - loss: 0.2822 - accuracy: 0.8814 - val_loss: 0.2301 - val_accuracy: 0.9079\n",
      "Epoch 24/50\n",
      "1333/1333 [==============================] - 236s 177ms/step - loss: 0.2754 - accuracy: 0.8816 - val_loss: 0.2158 - val_accuracy: 0.9177\n",
      "Epoch 25/50\n",
      "1333/1333 [==============================] - 229s 172ms/step - loss: 0.2746 - accuracy: 0.8851 - val_loss: 0.2141 - val_accuracy: 0.9151\n",
      "Epoch 26/50\n",
      "1332/1333 [============================>.] - ETA: 0s - loss: 0.2658 - accuracy: 0.8887\n",
      "Epoch 00026: ReduceLROnPlateau reducing learning rate to 6.25000029685907e-05.\n",
      "1333/1333 [==============================] - 232s 174ms/step - loss: 0.2659 - accuracy: 0.8887 - val_loss: 0.2167 - val_accuracy: 0.9151\n",
      "Epoch 27/50\n",
      "1333/1333 [==============================] - 232s 174ms/step - loss: 0.2734 - accuracy: 0.8862 - val_loss: 0.2053 - val_accuracy: 0.9191\n",
      "Epoch 28/50\n",
      "1333/1333 [==============================] - 228s 171ms/step - loss: 0.2680 - accuracy: 0.8889 - val_loss: 0.2128 - val_accuracy: 0.9149\n",
      "Epoch 29/50\n",
      "1333/1333 [==============================] - 216s 162ms/step - loss: 0.2669 - accuracy: 0.8883 - val_loss: 0.2055 - val_accuracy: 0.9195\n",
      "Epoch 30/50\n",
      "1333/1333 [==============================] - 223s 168ms/step - loss: 0.2718 - accuracy: 0.8868 - val_loss: 0.2103 - val_accuracy: 0.9149\n",
      "Epoch 31/50\n",
      "1332/1333 [============================>.] - ETA: 0s - loss: 0.2625 - accuracy: 0.8898\n",
      "Epoch 00031: ReduceLROnPlateau reducing learning rate to 3.125000148429535e-05.\n",
      "1333/1333 [==============================] - 375s 281ms/step - loss: 0.2624 - accuracy: 0.8899 - val_loss: 0.2095 - val_accuracy: 0.9159\n",
      "Epoch 32/50\n",
      "1333/1333 [==============================] - 258s 194ms/step - loss: 0.2645 - accuracy: 0.8916 - val_loss: 0.2043 - val_accuracy: 0.9225\n",
      "Epoch 33/50\n",
      "1333/1333 [==============================] - 234s 175ms/step - loss: 0.2604 - accuracy: 0.8914 - val_loss: 0.2094 - val_accuracy: 0.9181\n",
      "Epoch 34/50\n",
      "1332/1333 [============================>.] - ETA: 0s - loss: 0.2638 - accuracy: 0.8911\n",
      "Epoch 00034: ReduceLROnPlateau reducing learning rate to 1.5625000742147677e-05.\n",
      "1333/1333 [==============================] - 219s 164ms/step - loss: 0.2639 - accuracy: 0.8911 - val_loss: 0.2071 - val_accuracy: 0.9201\n",
      "Epoch 35/50\n",
      "1333/1333 [==============================] - 221s 165ms/step - loss: 0.2625 - accuracy: 0.8917 - val_loss: 0.2066 - val_accuracy: 0.9193\n",
      "Epoch 36/50\n",
      "1332/1333 [============================>.] - ETA: 0s - loss: 0.2626 - accuracy: 0.8932\n",
      "Epoch 00036: ReduceLROnPlateau reducing learning rate to 1e-05.\n",
      "1333/1333 [==============================] - 223s 168ms/step - loss: 0.2625 - accuracy: 0.8933 - val_loss: 0.2102 - val_accuracy: 0.9181\n",
      "Epoch 37/50\n",
      "1333/1333 [==============================] - 304s 228ms/step - loss: 0.2582 - accuracy: 0.8932 - val_loss: 0.2082 - val_accuracy: 0.9187\n",
      "Epoch 38/50\n",
      "1333/1333 [==============================] - 341s 256ms/step - loss: 0.2578 - accuracy: 0.8943 - val_loss: 0.2061 - val_accuracy: 0.9181\n",
      "Epoch 39/50\n",
      "1333/1333 [==============================] - 258s 193ms/step - loss: 0.2563 - accuracy: 0.8940 - val_loss: 0.2057 - val_accuracy: 0.9189\n",
      "Epoch 40/50\n",
      "1333/1333 [==============================] - 230s 173ms/step - loss: 0.2647 - accuracy: 0.8921 - val_loss: 0.2046 - val_accuracy: 0.9205\n",
      "Epoch 41/50\n",
      "1333/1333 [==============================] - 216s 162ms/step - loss: 0.2567 - accuracy: 0.8929 - val_loss: 0.2081 - val_accuracy: 0.9185\n",
      "Epoch 42/50\n",
      "1333/1333 [==============================] - 404s 303ms/step - loss: 0.2606 - accuracy: 0.8910 - val_loss: 0.2051 - val_accuracy: 0.9205\n"
     ]
    }
   ],
   "source": [
    "# We will now train the model\n",
    "EPOCHS = 3 if False else 50\n",
    "history = model.fit_generator(gen_train, \n",
    "                              epochs=EPOCHS,\n",
    "                              verbose=1,\n",
    "                              validation_data=gen_val,\n",
    "                              validation_steps=total_val // BATCH_SIZE,\n",
    "                              steps_per_epoch=total_train // BATCH_SIZE,\n",
    "                              callbacks=CALLBACKS)"
   ]
  },
  {
   "cell_type": "markdown",
   "metadata": {
    "id": "ffym2uhCTx1l"
   },
   "source": [
    "## 7 - Save Model"
   ]
  },
  {
   "cell_type": "code",
   "execution_count": 19,
   "metadata": {
    "id": "G5EmGLQwS8A-"
   },
   "outputs": [],
   "source": [
    "model.save_weights(MODELS_DIR + \"model_cnn_31-12-2020-00-55-00.h5\")"
   ]
  },
  {
   "cell_type": "markdown",
   "metadata": {
    "id": "OfLbHP-pT1zq"
   },
   "source": [
    "## 8 - Display Accuracy & Loss"
   ]
  },
  {
   "cell_type": "code",
   "execution_count": 20,
   "metadata": {},
   "outputs": [
    {
     "data": {
      "text/plain": [
       "{'loss': [0.7476550690645214,\n",
       "  0.5570307192219058,\n",
       "  0.5123780598961356,\n",
       "  0.47701943696872395,\n",
       "  0.4481029958203938,\n",
       "  0.42361158339648297,\n",
       "  0.4177157217662335,\n",
       "  0.39834381042065575,\n",
       "  0.38531311968430476,\n",
       "  0.3764526335513678,\n",
       "  0.33732791824328295,\n",
       "  0.3272964684649172,\n",
       "  0.30548927445856594,\n",
       "  0.3016972585968265,\n",
       "  0.3054066297102115,\n",
       "  0.3031792211499413,\n",
       "  0.2986142347294866,\n",
       "  0.29199947517254304,\n",
       "  0.2916516963488494,\n",
       "  0.2833301460709211,\n",
       "  0.27655974237356884,\n",
       "  0.2739242980122,\n",
       "  0.28208122821280085,\n",
       "  0.27539967872856674,\n",
       "  0.2746165092696182,\n",
       "  0.26575364603425433,\n",
       "  0.2735152209598421,\n",
       "  0.2676515554534381,\n",
       "  0.2669375843284822,\n",
       "  0.2719557389383029,\n",
       "  0.26248443788693404,\n",
       "  0.2645057553324307,\n",
       "  0.2600233893844301,\n",
       "  0.26395894357203425,\n",
       "  0.26236107376629425,\n",
       "  0.26260414350501055,\n",
       "  0.2581325502120646,\n",
       "  0.2577948021500453,\n",
       "  0.25640109209364764,\n",
       "  0.264748487371764,\n",
       "  0.25639033234476194,\n",
       "  0.2598012330806014],\n",
       " 'accuracy': [0.6314736,\n",
       "  0.7206905,\n",
       "  0.7527646,\n",
       "  0.7734801,\n",
       "  0.79364526,\n",
       "  0.8105579,\n",
       "  0.8140105,\n",
       "  0.8235677,\n",
       "  0.82952213,\n",
       "  0.83407557,\n",
       "  0.857393,\n",
       "  0.85954463,\n",
       "  0.8700025,\n",
       "  0.86980236,\n",
       "  0.8701026,\n",
       "  0.87150365,\n",
       "  0.8738554,\n",
       "  0.8752564,\n",
       "  0.877358,\n",
       "  0.8766575,\n",
       "  0.8817613,\n",
       "  0.8850638,\n",
       "  0.8814111,\n",
       "  0.88156116,\n",
       "  0.88511384,\n",
       "  0.8887165,\n",
       "  0.8861646,\n",
       "  0.8889167,\n",
       "  0.8883162,\n",
       "  0.88676506,\n",
       "  0.8898674,\n",
       "  0.89156866,\n",
       "  0.8914186,\n",
       "  0.8910683,\n",
       "  0.89166874,\n",
       "  0.89331996,\n",
       "  0.8932199,\n",
       "  0.8942707,\n",
       "  0.8940205,\n",
       "  0.8921191,\n",
       "  0.8929197,\n",
       "  0.8909682],\n",
       " 'val_loss': [0.5868564774324229,\n",
       "  0.5346806032342596,\n",
       "  0.8209782503657155,\n",
       "  0.5445594502998902,\n",
       "  0.3837723090640596,\n",
       "  0.35403413627598734,\n",
       "  0.3874296280065993,\n",
       "  0.32166505023255365,\n",
       "  0.45172527642758403,\n",
       "  0.3647079823186269,\n",
       "  0.35699759128394426,\n",
       "  0.37934908411792806,\n",
       "  0.24601622380025395,\n",
       "  0.2450964205168389,\n",
       "  0.23345231975207817,\n",
       "  0.2546297984684373,\n",
       "  0.24000300133639985,\n",
       "  0.2286696063953119,\n",
       "  0.23061293062639307,\n",
       "  0.36941525099558514,\n",
       "  0.21839303750399355,\n",
       "  0.21410316439183266,\n",
       "  0.23005868107997798,\n",
       "  0.2157678745306648,\n",
       "  0.21411685835200925,\n",
       "  0.21674320836727684,\n",
       "  0.20532564885981447,\n",
       "  0.21282163571409723,\n",
       "  0.20553730314670204,\n",
       "  0.21028828401084956,\n",
       "  0.20954248377376491,\n",
       "  0.2043191644757449,\n",
       "  0.20940968757858863,\n",
       "  0.2070587716672245,\n",
       "  0.20656136536338665,\n",
       "  0.21021260365888522,\n",
       "  0.20820357642128123,\n",
       "  0.2061399647255649,\n",
       "  0.20573070487035466,\n",
       "  0.20460245796890408,\n",
       "  0.20813593977653944,\n",
       "  0.2050992371710213],\n",
       " 'val_accuracy': [0.71611613,\n",
       "  0.73813814,\n",
       "  0.6596597,\n",
       "  0.7419419,\n",
       "  0.83763766,\n",
       "  0.8458458,\n",
       "  0.82522523,\n",
       "  0.8608609,\n",
       "  0.77537537,\n",
       "  0.83263266,\n",
       "  0.839039,\n",
       "  0.83163166,\n",
       "  0.8976977,\n",
       "  0.8982983,\n",
       "  0.9043043,\n",
       "  0.8982983,\n",
       "  0.9059059,\n",
       "  0.9077077,\n",
       "  0.9045045,\n",
       "  0.84664667,\n",
       "  0.9159159,\n",
       "  0.91731733,\n",
       "  0.9079079,\n",
       "  0.9177177,\n",
       "  0.9151151,\n",
       "  0.9151151,\n",
       "  0.9191191,\n",
       "  0.9149149,\n",
       "  0.91951954,\n",
       "  0.9149149,\n",
       "  0.9159159,\n",
       "  0.92252254,\n",
       "  0.9181181,\n",
       "  0.9201201,\n",
       "  0.91931933,\n",
       "  0.9181181,\n",
       "  0.9187187,\n",
       "  0.9181181,\n",
       "  0.9189189,\n",
       "  0.92052054,\n",
       "  0.91851854,\n",
       "  0.92052054],\n",
       " 'lr': [0.001,\n",
       "  0.001,\n",
       "  0.001,\n",
       "  0.001,\n",
       "  0.001,\n",
       "  0.001,\n",
       "  0.001,\n",
       "  0.001,\n",
       "  0.001,\n",
       "  0.001,\n",
       "  0.0005,\n",
       "  0.0005,\n",
       "  0.00025,\n",
       "  0.00025,\n",
       "  0.00025,\n",
       "  0.00025,\n",
       "  0.00025,\n",
       "  0.00025,\n",
       "  0.00025,\n",
       "  0.00025,\n",
       "  0.000125,\n",
       "  0.000125,\n",
       "  0.000125,\n",
       "  0.000125,\n",
       "  0.000125,\n",
       "  0.000125,\n",
       "  6.25e-05,\n",
       "  6.25e-05,\n",
       "  6.25e-05,\n",
       "  6.25e-05,\n",
       "  6.25e-05,\n",
       "  3.125e-05,\n",
       "  3.125e-05,\n",
       "  3.125e-05,\n",
       "  1.5625e-05,\n",
       "  1.5625e-05,\n",
       "  1e-05,\n",
       "  1e-05,\n",
       "  1e-05,\n",
       "  1e-05,\n",
       "  1e-05,\n",
       "  1e-05]}"
      ]
     },
     "execution_count": 20,
     "metadata": {},
     "output_type": "execute_result"
    }
   ],
   "source": [
    "history.history"
   ]
  },
  {
   "cell_type": "code",
   "execution_count": 21,
   "metadata": {
    "id": "yLMonB0BUudw"
   },
   "outputs": [
    {
     "data": {
      "image/png": "[encoded data removed]",
      "text/plain": [
       "<Figure size 864x864 with 2 Axes>"
      ]
     },
     "metadata": {
      "needs_background": "light"
     },
     "output_type": "display_data"
    }
   ],
   "source": [
    "fig, (ax1, ax2) = plt.subplots(2, 1, figsize=(12, 12))\n",
    "ax1.plot(history.history['loss'], color='b', label=\"Training loss\")\n",
    "ax1.plot(history.history['val_loss'], color='r', label=\"validation loss\")\n",
    "ax1.set_xticks(np.arange(1, EPOCHS, 1))\n",
    "ax1.set_yticks(np.arange(0, 1, 0.1))\n",
    "\n",
    "ax2.plot(history.history['accuracy'], color='b', label=\"Training accuracy\")\n",
    "ax2.plot(history.history['val_accuracy'], color='r',label=\"Validation accuracy\")\n",
    "ax2.set_xticks(np.arange(1, EPOCHS, 1))\n",
    "\n",
    "legend = plt.legend(loc='best', shadow=True)\n",
    "plt.tight_layout()\n",
    "plt.show()"
   ]
  },
  {
   "cell_type": "markdown",
   "metadata": {
    "id": "bX8LrfkQU0lR"
   },
   "source": [
    "## 9 - Test CNN"
   ]
  },
  {
   "cell_type": "code",
   "execution_count": null,
   "metadata": {
    "id": "vWvW798UU5Il"
   },
   "outputs": [],
   "source": []
  }
 ],
 "metadata": {
  "accelerator": "GPU",
  "colab": {
   "collapsed_sections": [],
   "name": "FYC_ComputerVision_1stAlgorythmes.ipynb",
   "provenance": []
  },
  "kernelspec": {
   "display_name": "Python 3",
   "language": "python",
   "name": "python3"
  },
  "language_info": {
   "codemirror_mode": {
    "name": "ipython",
    "version": 3
   },
   "file_extension": ".py",
   "mimetype": "text/x-python",
   "name": "python",
   "nbconvert_exporter": "python",
   "pygments_lexer": "ipython3",
   "version": "3.7.5"
  }
 },
 "nbformat": 4,
 "nbformat_minor": 1
}
